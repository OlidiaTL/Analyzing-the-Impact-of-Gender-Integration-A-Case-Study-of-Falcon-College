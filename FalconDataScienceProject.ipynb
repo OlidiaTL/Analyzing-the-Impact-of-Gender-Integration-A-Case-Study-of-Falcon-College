{
 "cells": [
  {
   "cell_type": "code",
   "execution_count": 10,
   "id": "f3d1df37",
   "metadata": {},
   "outputs": [
    {
     "data": {
      "text/plain": [
       "'\\n## Title: Analyzing the Impact of Gender Integration: A Case Study of Falcon College\\n\\n## Introduction:\\nI had the privilege of being one of the \"12 pioneers\" of Falcon College, Zimbabwe in 2017 as one of the first 12 girls \\nto join the previously all-male boarding school. Since then, the number of female students at Falcon College has grown \\nsignificantly, and I am eager to explore and understand the transformative impact that the introduction of girls has had on\\nthe school over the years.\\n\\nThe dataset for this analysis comprises of multiple components, including enrolment data, age group data, pass rates data, \\nand forms data. The enrolment data provides information about the total number of students enrolled in the school each year, \\ncategorized by gender. The age group data offers insights into the distribution of students across different age groups (where \\nlearners turned the age in that group in that year e.g. U14 in 2014 means that the student turned 14 in 2014)\\nThe pass rates data sheds light on the academic performance of students, indicating the percentage of students who pass their\\nexams. Lastly, the forms data provides details about the different grade levels in the school.\\n\\nThe primary objective of this analysis is to examine the changes in enrolment trends and academic performance before and after \\nthe introduction of girls to Falcon College. By comparing the data before and after this pivotal milestone, we aim to assess the\\nimpact of gender integration on the school community. Additionally, we seek to uncover any patterns or trends in the age group\\ndistribution and the pass rates of students, which may offer valuable insights into the educational landscape at Falcon College.\\n\\nBy employing various data analysis techniques, including data visualization, statistical analysis, and trend identification,\\nwe aim to uncover meaningful findings that can inform school administrators and policymakers about the effects of gender \\nintegration on enrolment and academic outcomes. This research is not only significant for Falcon College but also holds broader \\nimplications for educational institutions, highlighting the potential benefits of creating more inclusive and diverse learning \\nenvironments.\\n\\nThe analysis will cover data from 2011 to 2023, providing a comprehensive overview of the changes and developments that have \\ntaken place since the integration of girls into Falcon College.\\nThrough this exploration, we hope to gain a deeper understanding of the impact of gender integration and contribute to the \\nongoing conversation on educational equity and inclusivity.\\n\\n'"
      ]
     },
     "execution_count": 10,
     "metadata": {},
     "output_type": "execute_result"
    }
   ],
   "source": [
    "\"\"\"\n",
    "## Title: Analyzing the Impact of Gender Integration: A Case Study of Falcon College\n",
    "\n",
    "## Introduction:\n",
    "I had the privilege of being one of the \"12 pioneers\" of Falcon College, Zimbabwe in 2017 as one of the first 12 girls \n",
    "to join the previously all-male boarding school. Since then, the number of female students at Falcon College has grown \n",
    "significantly, and I am eager to explore and understand the transformative impact that the introduction of girls has had on\n",
    "the school over the years.\n",
    "\n",
    "The dataset for this analysis comprises of multiple components, including enrolment data, age group data, pass rates data, \n",
    "and forms data. The enrolment data provides information about the total number of students enrolled in the school each year, \n",
    "categorized by gender. The age group data offers insights into the distribution of students across different age groups (where \n",
    "learners turned the age in that group in that year e.g. U14 in 2014 means that the student turned 14 in 2014)\n",
    "The pass rates data sheds light on the academic performance of students, indicating the percentage of students who pass their\n",
    "exams. Lastly, the forms data provides details about the different grade levels in the school.\n",
    "\n",
    "The primary objective of this analysis is to examine the changes in enrolment trends and academic performance before and after \n",
    "the introduction of girls to Falcon College. By comparing the data before and after this pivotal milestone, we aim to assess the\n",
    "impact of gender integration on the school community. Additionally, we seek to uncover any patterns or trends in the age group\n",
    "distribution and the pass rates of students, which may offer valuable insights into the educational landscape at Falcon College.\n",
    "\n",
    "By employing various data analysis techniques, including data visualization,and statistical analysis using Python, hypothesis \n",
    "testing, and testing for normality using R programming, we aim to uncover meaningful findings that can inform school administrators and\n",
    "policymakers about the effects of gender integration on enrolment and academic outcomes. This research is not only significant\n",
    "for Falcon College but also holds broader implications for educational institutions, highlighting the potential benefits of \n",
    "creating more inclusive and diverse learning environments\n",
    "\n",
    "The analysis will cover data from 2011 to 2023, providing a comprehensive overview of the changes and developments that have \n",
    "taken place since the integration of girls into Falcon College.\n",
    "Through this exploration, we hope to gain a deeper understanding of the impact of gender integration and contribute to the \n",
    "ongoing conversation on educational equity and inclusivity.\n",
    "\n",
    "\"\"\""
   ]
  },
  {
   "cell_type": "code",
   "execution_count": 3,
   "id": "22a2eb12",
   "metadata": {},
   "outputs": [],
   "source": [
    "# Importing the necessary libraries \n",
    "import numpy as np  # For numerical operations\n",
    "import pandas as pd  # For data manipulation and analysis\n",
    "\n",
    "import matplotlib.pyplot as plt  # For data visualization\n",
    "import seaborn as sns  # For enhanced data visualization\n",
    "\n",
    "from ipywidgets import interact  # For interactivity\n",
    "\n",
    "import scipy.stats as stats  # For statistical analysis\n",
    "from sklearn.model_selection import train_test_split  # For splitting the data into training and testing sets\n",
    "from sklearn.linear_model import LinearRegression  # For linear regression modeling\n",
    "from sklearn.metrics import mean_squared_error  # For evaluating the model's performance\n"
   ]
  },
  {
   "cell_type": "code",
   "execution_count": 8,
   "id": "659b64ed",
   "metadata": {},
   "outputs": [
    {
     "data": {
      "text/html": [
       "<div>\n",
       "<style scoped>\n",
       "    .dataframe tbody tr th:only-of-type {\n",
       "        vertical-align: middle;\n",
       "    }\n",
       "\n",
       "    .dataframe tbody tr th {\n",
       "        vertical-align: top;\n",
       "    }\n",
       "\n",
       "    .dataframe thead th {\n",
       "        text-align: right;\n",
       "    }\n",
       "</style>\n",
       "<table border=\"1\" class=\"dataframe\">\n",
       "  <thead>\n",
       "    <tr style=\"text-align: right;\">\n",
       "      <th></th>\n",
       "      <th>ENROLMENT SINCE 2011</th>\n",
       "      <th>Unnamed: 1</th>\n",
       "      <th>Unnamed: 2</th>\n",
       "    </tr>\n",
       "  </thead>\n",
       "  <tbody>\n",
       "    <tr>\n",
       "      <th>0</th>\n",
       "      <td></td>\n",
       "      <td>Male</td>\n",
       "      <td>Female</td>\n",
       "    </tr>\n",
       "    <tr>\n",
       "      <th>1</th>\n",
       "      <td>2011</td>\n",
       "      <td>418</td>\n",
       "      <td>0</td>\n",
       "    </tr>\n",
       "    <tr>\n",
       "      <th>2</th>\n",
       "      <td>2012</td>\n",
       "      <td>441</td>\n",
       "      <td>0</td>\n",
       "    </tr>\n",
       "    <tr>\n",
       "      <th>3</th>\n",
       "      <td>2013</td>\n",
       "      <td>433</td>\n",
       "      <td>0</td>\n",
       "    </tr>\n",
       "    <tr>\n",
       "      <th>4</th>\n",
       "      <td>2014</td>\n",
       "      <td>439</td>\n",
       "      <td>0</td>\n",
       "    </tr>\n",
       "    <tr>\n",
       "      <th>5</th>\n",
       "      <td>2015</td>\n",
       "      <td>423</td>\n",
       "      <td>0</td>\n",
       "    </tr>\n",
       "    <tr>\n",
       "      <th>6</th>\n",
       "      <td>2016</td>\n",
       "      <td>396</td>\n",
       "      <td>0</td>\n",
       "    </tr>\n",
       "    <tr>\n",
       "      <th>7</th>\n",
       "      <td>2017</td>\n",
       "      <td>370</td>\n",
       "      <td>13</td>\n",
       "    </tr>\n",
       "    <tr>\n",
       "      <th>8</th>\n",
       "      <td>2018</td>\n",
       "      <td>347</td>\n",
       "      <td>33</td>\n",
       "    </tr>\n",
       "    <tr>\n",
       "      <th>9</th>\n",
       "      <td>2019</td>\n",
       "      <td>363</td>\n",
       "      <td>62</td>\n",
       "    </tr>\n",
       "  </tbody>\n",
       "</table>\n",
       "</div>"
      ],
      "text/plain": [
       "  ENROLMENT SINCE 2011 Unnamed: 1 Unnamed: 2\n",
       "0                            Male     Female\n",
       "1                 2011        418          0\n",
       "2                 2012        441          0\n",
       "3                 2013        433          0\n",
       "4                 2014        439          0\n",
       "5                 2015        423          0\n",
       "6                 2016        396          0\n",
       "7                 2017        370         13\n",
       "8                 2018        347         33\n",
       "9                 2019        363         62"
      ]
     },
     "execution_count": 8,
     "metadata": {},
     "output_type": "execute_result"
    }
   ],
   "source": [
    "# Read the enrolment dataset from the specified file path\n",
    "enrolment = pd.read_csv(\"C:/Users/Olidia/Desktop/Projects/Falcon/Enrolment.csv\")\n",
    "\n",
    "# Display the first 10 rows of the enrolment dataframe\n",
    "enrolment.head(10)"
   ]
  },
  {
   "cell_type": "code",
   "execution_count": 9,
   "id": "adc53842",
   "metadata": {},
   "outputs": [
    {
     "name": "stdout",
     "output_type": "stream",
     "text": [
      "<class 'pandas.core.frame.DataFrame'>\n",
      "RangeIndex: 14 entries, 0 to 13\n",
      "Data columns (total 3 columns):\n",
      " #   Column                Non-Null Count  Dtype \n",
      "---  ------                --------------  ----- \n",
      " 0   ENROLMENT SINCE 2011  14 non-null     object\n",
      " 1   Unnamed: 1            14 non-null     object\n",
      " 2   Unnamed: 2            14 non-null     object\n",
      "dtypes: object(3)\n",
      "memory usage: 464.0+ bytes\n"
     ]
    }
   ],
   "source": [
    "#information about dataset\n",
    "enrolment.info()"
   ]
  },
  {
   "cell_type": "code",
   "execution_count": 32,
   "id": "6d3c1643",
   "metadata": {},
   "outputs": [
    {
     "data": {
      "text/html": [
       "<div>\n",
       "<style scoped>\n",
       "    .dataframe tbody tr th:only-of-type {\n",
       "        vertical-align: middle;\n",
       "    }\n",
       "\n",
       "    .dataframe tbody tr th {\n",
       "        vertical-align: top;\n",
       "    }\n",
       "\n",
       "    .dataframe thead th {\n",
       "        text-align: right;\n",
       "    }\n",
       "</style>\n",
       "<table border=\"1\" class=\"dataframe\">\n",
       "  <thead>\n",
       "    <tr style=\"text-align: right;\">\n",
       "      <th></th>\n",
       "      <th>ENROLMENT SINCE 2011</th>\n",
       "      <th>Unnamed: 1</th>\n",
       "      <th>Unnamed: 2</th>\n",
       "    </tr>\n",
       "  </thead>\n",
       "  <tbody>\n",
       "    <tr>\n",
       "      <th>count</th>\n",
       "      <td>14</td>\n",
       "      <td>14</td>\n",
       "      <td>14</td>\n",
       "    </tr>\n",
       "    <tr>\n",
       "      <th>unique</th>\n",
       "      <td>14</td>\n",
       "      <td>14</td>\n",
       "      <td>9</td>\n",
       "    </tr>\n",
       "    <tr>\n",
       "      <th>top</th>\n",
       "      <td>2011</td>\n",
       "      <td>352</td>\n",
       "      <td>0</td>\n",
       "    </tr>\n",
       "    <tr>\n",
       "      <th>freq</th>\n",
       "      <td>1</td>\n",
       "      <td>1</td>\n",
       "      <td>6</td>\n",
       "    </tr>\n",
       "  </tbody>\n",
       "</table>\n",
       "</div>"
      ],
      "text/plain": [
       "       ENROLMENT SINCE 2011 Unnamed: 1 Unnamed: 2\n",
       "count                    14         14         14\n",
       "unique                   14         14          9\n",
       "top                    2011        352          0\n",
       "freq                      1          1          6"
      ]
     },
     "execution_count": 32,
     "metadata": {},
     "output_type": "execute_result"
    }
   ],
   "source": [
    "#basic statistics about dataset\n",
    "enrolment.describe()"
   ]
  },
  {
   "cell_type": "code",
   "execution_count": 10,
   "id": "f8d7ad81",
   "metadata": {},
   "outputs": [
    {
     "name": "stdout",
     "output_type": "stream",
     "text": [
      "    Year  Male  Female  Total_Enrolment\n",
      "1   2011   418       0              418\n",
      "2   2012   441       0              441\n",
      "3   2013   433       0              433\n",
      "4   2014   439       0              439\n",
      "5   2015   423       0              423\n",
      "6   2016   396       0              396\n",
      "7   2017   370      13              383\n",
      "8   2018   347      33              380\n",
      "9   2019   363      62              425\n",
      "10  2020   354      91              445\n",
      "11  2021   364     120              484\n",
      "12  2022   374     136              510\n",
      "13  2023   352     148              500\n"
     ]
    }
   ],
   "source": [
    "# Reset the index\n",
    "enrolment = enrolment.reset_index(drop=True)\n",
    "\n",
    "# Drop first row\n",
    "enrolment = enrolment.drop(index=0)\n",
    "\n",
    "# Assign column names\n",
    "enrolment.columns = ['Year', 'Male', 'Female']\n",
    "\n",
    "# Convert the data type of 'Male' and 'Female' columns to numeric\n",
    "enrolment['Male'] = pd.to_numeric(enrolment['Male'])\n",
    "enrolment['Female'] = pd.to_numeric(enrolment['Female'])\n",
    "\n",
    "# Calculate the total enrollments (male + female) for each year\n",
    "enrolment['Total_Enrolment'] = enrolment['Male'] + enrolment['Female']\n",
    "\n",
    "# Print the enrollment by year\n",
    "print(enrolment)"
   ]
  },
  {
   "cell_type": "code",
   "execution_count": 16,
   "id": "0fced59d",
   "metadata": {},
   "outputs": [
    {
     "name": "stdout",
     "output_type": "stream",
     "text": [
      "    Year  Male  Female  Total_Enrolment  Male_Percentage  Female_Percentage  \\\n",
      "1   2012   441       0              441       100.000000           0.000000   \n",
      "2   2013   433       0              433       100.000000           0.000000   \n",
      "3   2014   439       0              439       100.000000           0.000000   \n",
      "4   2015   423       0              423       100.000000           0.000000   \n",
      "5   2016   396       0              396       100.000000           0.000000   \n",
      "6   2017   370      13              383        96.605744           3.394256   \n",
      "7   2018   347      33              380        91.315789           8.684211   \n",
      "8   2019   363      62              425        85.411765          14.588235   \n",
      "9   2020   354      91              445        79.550562          20.449438   \n",
      "10  2021   364     120              484        75.206612          24.793388   \n",
      "11  2022   374     136              510        73.333333          26.666667   \n",
      "12  2023   352     148              500        70.400000          29.600000   \n",
      "\n",
      "    Male_Growth_Rate  Female_Growth_Rate  \n",
      "1                NaN                 NaN  \n",
      "2          -1.814059                 NaN  \n",
      "3           1.385681                 NaN  \n",
      "4          -3.644647                 NaN  \n",
      "5          -6.382979                 NaN  \n",
      "6          -6.565657                 inf  \n",
      "7          -6.216216          153.846154  \n",
      "8           4.610951           87.878788  \n",
      "9          -2.479339           46.774194  \n",
      "10          2.824859           31.868132  \n",
      "11          2.747253           13.333333  \n",
      "12         -5.882353            8.823529  \n"
     ]
    }
   ],
   "source": [
    "# Calculate the percentage of male and female enrollments for each year\n",
    "enrolment['Male_Percentage'] = (enrolment['Male'] / enrolment['Total_Enrolment']) * 100\n",
    "enrolment['Female_Percentage'] = (enrolment['Female'] / enrolment['Total_Enrolment']) * 100\n",
    "\n",
    "# Calculate the year-to-year growth rates for male and female enrollments\n",
    "enrolment['Male_Growth_Rate'] = enrolment['Male'].pct_change() * 100\n",
    "enrolment['Female_Growth_Rate'] = enrolment['Female'].pct_change() * 100\n",
    "\n",
    "print(enrolment)"
   ]
  },
  {
   "cell_type": "code",
   "execution_count": 17,
   "id": "b5b0a396",
   "metadata": {},
   "outputs": [
    {
     "data": {
      "text/plain": [
       "'\\n- Prior to 2017, the school had a male-only enrollment, with no female students.\\n- In 2017, the first year of female integration, 13 female students were enrolled, accounting for 3.39% of the total enrolment.\\n- The total enrolment steadily increased over the years, reaching a peak of 510 in 2022.\\n- The male enrolment experienced a slight decline from 418 in 2011 to 352 in 2023, with a corresponding decrease in the male growth rate.\\n- On the other hand, the female enrolment grew steadily from 13 in 2017 to 148 in 2023, indicating a significant increase in the\\n  female presence at the school.\\n- The male percentage gradually decreased from 100% in the pre-integration years to 70.40% in 2023, while the female percentage \\n  rose to 29.60%.\\n- The growth rate of female enrolment has been consistently positive, whereas the male growth rate has fluctuated over the years.\\n- These findings suggest a successful integration of female students into Falcon College and a more balanced gender distribution\\n  at the school.\\n'"
      ]
     },
     "execution_count": 17,
     "metadata": {},
     "output_type": "execute_result"
    }
   ],
   "source": [
    "\"\"\"\n",
    "- Prior to 2017, the school had a male-only enrollment, with no female students.\n",
    "- In 2017, the first year of female integration, 13 female students were enrolled, accounting for 3.39% of the total enrolment.\n",
    "- The total enrolment steadily increased over the years, reaching a peak of 510 in 2022.\n",
    "- The male enrolment experienced a slight decline from 418 in 2011 to 352 in 2023, with a corresponding decrease in the male growth rate.\n",
    "- On the other hand, the female enrolment grew steadily from 13 in 2017 to 148 in 2023, indicating a significant increase in the\n",
    "  female presence at the school.\n",
    "- The male percentage gradually decreased from 100% in the pre-integration years to 70.40% in 2023, while the female percentage \n",
    "  rose to 29.60%.\n",
    "- The growth rate of female enrolment has been consistently positive, whereas the male growth rate has fluctuated over the years.\n",
    "- These findings suggest a successful integration of female students into Falcon College and a more balanced gender distribution\n",
    "  at the school.\n",
    "\"\"\""
   ]
  },
  {
   "cell_type": "code",
   "execution_count": 18,
   "id": "24840b76",
   "metadata": {},
   "outputs": [
    {
     "data": {
      "image/png": "[encoded data removed]",
      "text/plain": [
       "<Figure size 432x288 with 1 Axes>"
      ]
     },
     "metadata": {
      "needs_background": "light"
     },
     "output_type": "display_data"
    }
   ],
   "source": [
    "# Visualizing the growth of male students and the trend of female students starting from the year 2017\n",
    "\n",
    "# To filter the data based on the year, we need to convert the 'Year' column to numeric data type before applying the comparison\n",
    "enrolment['Year'] = pd.to_numeric(enrolment['Year'], errors='coerce')\n",
    "\n",
    "# Create a line plot for male enrollments\n",
    "plt.plot(enrolment['Year'], enrolment['Male'], marker='o', label='Male')\n",
    "\n",
    "# Filter the data starting from the year 2017\n",
    "enrolment_filtered = enrolment[enrolment['Year'] >= 2017]\n",
    "\n",
    "# Create a line plot for female enrollments\n",
    "plt.plot(enrolment_filtered['Year'], enrolment_filtered['Female'], marker='o', label='Female')\n",
    "\n",
    "# Set plot title and labels\n",
    "plt.title('Enrolment Trend')\n",
    "plt.xlabel('Year')\n",
    "plt.ylabel('Number of Students')\n",
    "\n",
    "# Add a legend\n",
    "plt.legend()\n",
    "\n",
    "# Show the plot\n",
    "plt.show()\n"
   ]
  },
  {
   "cell_type": "code",
   "execution_count": 19,
   "id": "9f248233",
   "metadata": {},
   "outputs": [
    {
     "data": {
      "text/plain": [
       "'\\nFrom the line plot illustrating the enrolment trend, the following observations can be made:\\n\\nMale Enrolment: The number of male students shows a gradual decline from 2011 to 2018, reaching a low point in 2018.\\nHowever, from 2018 onwards, there is a slight recovery in male enrolments, although the numbers remain lower compared to \\nprevious years.\\n\\nFemale Enrolment: The trend for female students displays a different pattern. From 2017, there is a significant increase in\\nfemale enrolments, indicating a positive growth trend. The number of female students continues to rise steadily each year.\\n\\nGender Distribution: The percentage of male enrolments has declined over the years, while the percentage of female enrolments\\nhas been consistently increasing. This indicates a shift in the gender distribution within the student population.\\n\\nThese findings highlight the changing enrolment patterns and the increasing representation of female students in recent years.\\n'"
      ]
     },
     "execution_count": 19,
     "metadata": {},
     "output_type": "execute_result"
    }
   ],
   "source": [
    "\"\"\"\n",
    "From the line plot illustrating the enrolment trend, the following observations can be made:\n",
    "\n",
    "Male Enrolment: The number of male students shows a gradual decline from 2011 to 2018, reaching a low point in 2018.\n",
    "However, from 2018 onwards, there is a slight recovery in male enrolments, although the numbers remain lower compared to \n",
    "previous years.\n",
    "\n",
    "Female Enrolment: The trend for female students displays a different pattern. From 2017, there is a significant increase in\n",
    "female enrolments, indicating a positive growth trend. The number of female students continues to rise steadily each year.\n",
    "\n",
    "Gender Distribution: The percentage of male enrolments has declined over the years, while the percentage of female enrolments\n",
    "has been consistently increasing. This indicates a shift in the gender distribution within the student population.\n",
    "\n",
    "These findings highlight the changing enrolment patterns and the increasing representation of female students in recent years.\n",
    "\"\"\""
   ]
  },
  {
   "cell_type": "code",
   "execution_count": 20,
   "id": "f9505051",
   "metadata": {},
   "outputs": [
    {
     "data": {
      "image/png": "[encoded data removed]",
      "text/plain": [
       "<Figure size 432x288 with 1 Axes>"
      ]
     },
     "metadata": {
      "needs_background": "light"
     },
     "output_type": "display_data"
    }
   ],
   "source": [
    "# Plotting the line graph for total enrollments\n",
    "plt.plot(enrolment['Year'], enrolment['Total_Enrolment'], marker='o', linestyle='-', color='blue')\n",
    "plt.xlabel('Year')\n",
    "plt.ylabel('Total Enrollments')\n",
    "plt.title('Enrollment Trend Over the Years')\n",
    "\n",
    "# Customize the plot\n",
    "plt.grid(True)\n",
    "\n",
    "# Set x-axis ticks\n",
    "plt.xticks(enrolment['Year'])\n",
    "\n",
    "# Display the plot\n",
    "plt.show()"
   ]
  },
  {
   "cell_type": "code",
   "execution_count": 21,
   "id": "81531eaf",
   "metadata": {},
   "outputs": [
    {
     "data": {
      "text/plain": [
       "'\\nFindings:\\n\\nEnrolment Trend: The graph shows a fluctuating pattern in total enrolments from 2011 to 2023. \\nInitially, there is a decrease in total enrollments from 2011 to 2018.\\nFrom 2018 onwards, there is a recovery in total enrolments, and the numbers start to increase. \\nThis indicates a period of growth in total enrollments.\\n\\nPeak in 2022: The graph shows a peak in total enrollments in 2022, reaching the highest point in the observed period.\\n\\nFluctuations: Throughout the graph, there are fluctuations in total enrollments, suggesting variations in student demand or \\nexternal factors influencing enrolment patterns.\\n\\nDespite the initial decline, the overall trend indicates a positive growth in total enrollments from 2018 to 2023.\\n'"
      ]
     },
     "execution_count": 21,
     "metadata": {},
     "output_type": "execute_result"
    }
   ],
   "source": [
    "\"\"\"\n",
    "Findings:\n",
    "\n",
    "Enrolment Trend: The graph shows a fluctuating pattern in total enrolments from 2011 to 2023. \n",
    "Initially, there is a decrease in total enrollments from 2011 to 2018.\n",
    "From 2018 onwards, there is a recovery in total enrolments, and the numbers start to increase. \n",
    "This indicates a period of growth in total enrollments.\n",
    "\n",
    "Peak in 2022: The graph shows a peak in total enrollments in 2022, reaching the highest point in the observed period.\n",
    "\n",
    "Fluctuations: Throughout the graph, there are fluctuations in total enrollments, suggesting variations in student demand or \n",
    "external factors influencing enrolment patterns.\n",
    "\n",
    "Despite the initial decline, the overall trend indicates a positive growth in total enrollments from 2018 to 2023.\n",
    "\"\"\""
   ]
  },
  {
   "cell_type": "code",
   "execution_count": 22,
   "id": "afa60f15",
   "metadata": {},
   "outputs": [
    {
     "name": "stdout",
     "output_type": "stream",
     "text": [
      "<class 'pandas.core.frame.DataFrame'>\n",
      "RangeIndex: 13 entries, 0 to 12\n",
      "Data columns (total 12 columns):\n",
      " #   Column  Non-Null Count  Dtype\n",
      "---  ------  --------------  -----\n",
      " 0   Year    13 non-null     int64\n",
      " 1   U12     13 non-null     int64\n",
      " 2   U13     13 non-null     int64\n",
      " 3   U14     13 non-null     int64\n",
      " 4   U15     13 non-null     int64\n",
      " 5   U16     13 non-null     int64\n",
      " 6   U17     13 non-null     int64\n",
      " 7   U18     13 non-null     int64\n",
      " 8   U19     13 non-null     int64\n",
      " 9   U20     13 non-null     int64\n",
      " 10  OPEN    13 non-null     int64\n",
      " 11  Total   13 non-null     int64\n",
      "dtypes: int64(12)\n",
      "memory usage: 1.3 KB\n"
     ]
    }
   ],
   "source": [
    "# Age Group Analysis\n",
    "# Learners turned the age in that group in that year e.g. U14 in 2014 means that the student turned 14 in 2014\n",
    "\n",
    "age_group = pd.read_csv(\"C:/Users/Olidia/Desktop/Projects/Falcon/AgeGroup.csv\")\n",
    "age_group.info()"
   ]
  },
  {
   "cell_type": "code",
   "execution_count": 23,
   "id": "085b2e4e",
   "metadata": {},
   "outputs": [
    {
     "data": {
      "text/html": [
       "<div>\n",
       "<style scoped>\n",
       "    .dataframe tbody tr th:only-of-type {\n",
       "        vertical-align: middle;\n",
       "    }\n",
       "\n",
       "    .dataframe tbody tr th {\n",
       "        vertical-align: top;\n",
       "    }\n",
       "\n",
       "    .dataframe thead th {\n",
       "        text-align: right;\n",
       "    }\n",
       "</style>\n",
       "<table border=\"1\" class=\"dataframe\">\n",
       "  <thead>\n",
       "    <tr style=\"text-align: right;\">\n",
       "      <th></th>\n",
       "      <th>Year</th>\n",
       "      <th>U12</th>\n",
       "      <th>U13</th>\n",
       "      <th>U14</th>\n",
       "      <th>U15</th>\n",
       "      <th>U16</th>\n",
       "      <th>U17</th>\n",
       "      <th>U18</th>\n",
       "      <th>U19</th>\n",
       "      <th>U20</th>\n",
       "      <th>OPEN</th>\n",
       "      <th>Total</th>\n",
       "    </tr>\n",
       "  </thead>\n",
       "  <tbody>\n",
       "    <tr>\n",
       "      <th>0</th>\n",
       "      <td>2011</td>\n",
       "      <td>0</td>\n",
       "      <td>58</td>\n",
       "      <td>68</td>\n",
       "      <td>75</td>\n",
       "      <td>77</td>\n",
       "      <td>76</td>\n",
       "      <td>48</td>\n",
       "      <td>15</td>\n",
       "      <td>1</td>\n",
       "      <td>0</td>\n",
       "      <td>418</td>\n",
       "    </tr>\n",
       "    <tr>\n",
       "      <th>1</th>\n",
       "      <td>2012</td>\n",
       "      <td>0</td>\n",
       "      <td>66</td>\n",
       "      <td>76</td>\n",
       "      <td>66</td>\n",
       "      <td>73</td>\n",
       "      <td>74</td>\n",
       "      <td>75</td>\n",
       "      <td>10</td>\n",
       "      <td>1</td>\n",
       "      <td>0</td>\n",
       "      <td>441</td>\n",
       "    </tr>\n",
       "    <tr>\n",
       "      <th>2</th>\n",
       "      <td>2013</td>\n",
       "      <td>1</td>\n",
       "      <td>55</td>\n",
       "      <td>86</td>\n",
       "      <td>76</td>\n",
       "      <td>65</td>\n",
       "      <td>72</td>\n",
       "      <td>66</td>\n",
       "      <td>12</td>\n",
       "      <td>0</td>\n",
       "      <td>0</td>\n",
       "      <td>433</td>\n",
       "    </tr>\n",
       "    <tr>\n",
       "      <th>3</th>\n",
       "      <td>2014</td>\n",
       "      <td>0</td>\n",
       "      <td>57</td>\n",
       "      <td>77</td>\n",
       "      <td>85</td>\n",
       "      <td>74</td>\n",
       "      <td>65</td>\n",
       "      <td>61</td>\n",
       "      <td>19</td>\n",
       "      <td>1</td>\n",
       "      <td>0</td>\n",
       "      <td>439</td>\n",
       "    </tr>\n",
       "    <tr>\n",
       "      <th>4</th>\n",
       "      <td>2015</td>\n",
       "      <td>0</td>\n",
       "      <td>48</td>\n",
       "      <td>68</td>\n",
       "      <td>75</td>\n",
       "      <td>80</td>\n",
       "      <td>73</td>\n",
       "      <td>60</td>\n",
       "      <td>17</td>\n",
       "      <td>2</td>\n",
       "      <td>0</td>\n",
       "      <td>423</td>\n",
       "    </tr>\n",
       "    <tr>\n",
       "      <th>5</th>\n",
       "      <td>2016</td>\n",
       "      <td>1</td>\n",
       "      <td>36</td>\n",
       "      <td>65</td>\n",
       "      <td>69</td>\n",
       "      <td>69</td>\n",
       "      <td>76</td>\n",
       "      <td>64</td>\n",
       "      <td>15</td>\n",
       "      <td>1</td>\n",
       "      <td>0</td>\n",
       "      <td>396</td>\n",
       "    </tr>\n",
       "    <tr>\n",
       "      <th>6</th>\n",
       "      <td>2017</td>\n",
       "      <td>0</td>\n",
       "      <td>42</td>\n",
       "      <td>53</td>\n",
       "      <td>65</td>\n",
       "      <td>69</td>\n",
       "      <td>64</td>\n",
       "      <td>73</td>\n",
       "      <td>17</td>\n",
       "      <td>0</td>\n",
       "      <td>0</td>\n",
       "      <td>383</td>\n",
       "    </tr>\n",
       "    <tr>\n",
       "      <th>7</th>\n",
       "      <td>2018</td>\n",
       "      <td>0</td>\n",
       "      <td>57</td>\n",
       "      <td>55</td>\n",
       "      <td>58</td>\n",
       "      <td>62</td>\n",
       "      <td>74</td>\n",
       "      <td>54</td>\n",
       "      <td>19</td>\n",
       "      <td>1</td>\n",
       "      <td>0</td>\n",
       "      <td>380</td>\n",
       "    </tr>\n",
       "    <tr>\n",
       "      <th>8</th>\n",
       "      <td>2019</td>\n",
       "      <td>2</td>\n",
       "      <td>67</td>\n",
       "      <td>78</td>\n",
       "      <td>64</td>\n",
       "      <td>61</td>\n",
       "      <td>60</td>\n",
       "      <td>71</td>\n",
       "      <td>21</td>\n",
       "      <td>1</td>\n",
       "      <td>0</td>\n",
       "      <td>425</td>\n",
       "    </tr>\n",
       "    <tr>\n",
       "      <th>9</th>\n",
       "      <td>2020</td>\n",
       "      <td>0</td>\n",
       "      <td>79</td>\n",
       "      <td>86</td>\n",
       "      <td>85</td>\n",
       "      <td>62</td>\n",
       "      <td>61</td>\n",
       "      <td>53</td>\n",
       "      <td>18</td>\n",
       "      <td>1</td>\n",
       "      <td>0</td>\n",
       "      <td>445</td>\n",
       "    </tr>\n",
       "    <tr>\n",
       "      <th>10</th>\n",
       "      <td>2021</td>\n",
       "      <td>1</td>\n",
       "      <td>75</td>\n",
       "      <td>107</td>\n",
       "      <td>85</td>\n",
       "      <td>76</td>\n",
       "      <td>67</td>\n",
       "      <td>58</td>\n",
       "      <td>13</td>\n",
       "      <td>2</td>\n",
       "      <td>0</td>\n",
       "      <td>484</td>\n",
       "    </tr>\n",
       "    <tr>\n",
       "      <th>11</th>\n",
       "      <td>2022</td>\n",
       "      <td>3</td>\n",
       "      <td>74</td>\n",
       "      <td>100</td>\n",
       "      <td>102</td>\n",
       "      <td>72</td>\n",
       "      <td>82</td>\n",
       "      <td>63</td>\n",
       "      <td>13</td>\n",
       "      <td>0</td>\n",
       "      <td>1</td>\n",
       "      <td>510</td>\n",
       "    </tr>\n",
       "    <tr>\n",
       "      <th>12</th>\n",
       "      <td>2023</td>\n",
       "      <td>0</td>\n",
       "      <td>73</td>\n",
       "      <td>100</td>\n",
       "      <td>85</td>\n",
       "      <td>99</td>\n",
       "      <td>67</td>\n",
       "      <td>65</td>\n",
       "      <td>11</td>\n",
       "      <td>0</td>\n",
       "      <td>0</td>\n",
       "      <td>500</td>\n",
       "    </tr>\n",
       "  </tbody>\n",
       "</table>\n",
       "</div>"
      ],
      "text/plain": [
       "    Year  U12  U13  U14  U15  U16  U17  U18  U19  U20  OPEN  Total\n",
       "0   2011    0   58   68   75   77   76   48   15    1     0    418\n",
       "1   2012    0   66   76   66   73   74   75   10    1     0    441\n",
       "2   2013    1   55   86   76   65   72   66   12    0     0    433\n",
       "3   2014    0   57   77   85   74   65   61   19    1     0    439\n",
       "4   2015    0   48   68   75   80   73   60   17    2     0    423\n",
       "5   2016    1   36   65   69   69   76   64   15    1     0    396\n",
       "6   2017    0   42   53   65   69   64   73   17    0     0    383\n",
       "7   2018    0   57   55   58   62   74   54   19    1     0    380\n",
       "8   2019    2   67   78   64   61   60   71   21    1     0    425\n",
       "9   2020    0   79   86   85   62   61   53   18    1     0    445\n",
       "10  2021    1   75  107   85   76   67   58   13    2     0    484\n",
       "11  2022    3   74  100  102   72   82   63   13    0     1    510\n",
       "12  2023    0   73  100   85   99   67   65   11    0     0    500"
      ]
     },
     "execution_count": 23,
     "metadata": {},
     "output_type": "execute_result"
    }
   ],
   "source": [
    "age_group.head(15)"
   ]
  },
  {
   "cell_type": "code",
   "execution_count": 24,
   "id": "982ee9d8",
   "metadata": {},
   "outputs": [
    {
     "data": {
      "text/html": [
       "<div>\n",
       "<style scoped>\n",
       "    .dataframe tbody tr th:only-of-type {\n",
       "        vertical-align: middle;\n",
       "    }\n",
       "\n",
       "    .dataframe tbody tr th {\n",
       "        vertical-align: top;\n",
       "    }\n",
       "\n",
       "    .dataframe thead th {\n",
       "        text-align: right;\n",
       "    }\n",
       "</style>\n",
       "<table border=\"1\" class=\"dataframe\">\n",
       "  <thead>\n",
       "    <tr style=\"text-align: right;\">\n",
       "      <th></th>\n",
       "      <th>Year</th>\n",
       "      <th>U12</th>\n",
       "      <th>U13</th>\n",
       "      <th>U14</th>\n",
       "      <th>U15</th>\n",
       "      <th>U16</th>\n",
       "      <th>U17</th>\n",
       "      <th>U18</th>\n",
       "      <th>U19</th>\n",
       "      <th>U20</th>\n",
       "      <th>OPEN</th>\n",
       "      <th>Total</th>\n",
       "    </tr>\n",
       "  </thead>\n",
       "  <tbody>\n",
       "    <tr>\n",
       "      <th>6</th>\n",
       "      <td>2017</td>\n",
       "      <td>0</td>\n",
       "      <td>42</td>\n",
       "      <td>53</td>\n",
       "      <td>65</td>\n",
       "      <td>69</td>\n",
       "      <td>64</td>\n",
       "      <td>73</td>\n",
       "      <td>17</td>\n",
       "      <td>0</td>\n",
       "      <td>0</td>\n",
       "      <td>383</td>\n",
       "    </tr>\n",
       "    <tr>\n",
       "      <th>7</th>\n",
       "      <td>2018</td>\n",
       "      <td>0</td>\n",
       "      <td>57</td>\n",
       "      <td>55</td>\n",
       "      <td>58</td>\n",
       "      <td>62</td>\n",
       "      <td>74</td>\n",
       "      <td>54</td>\n",
       "      <td>19</td>\n",
       "      <td>1</td>\n",
       "      <td>0</td>\n",
       "      <td>380</td>\n",
       "    </tr>\n",
       "    <tr>\n",
       "      <th>8</th>\n",
       "      <td>2019</td>\n",
       "      <td>2</td>\n",
       "      <td>67</td>\n",
       "      <td>78</td>\n",
       "      <td>64</td>\n",
       "      <td>61</td>\n",
       "      <td>60</td>\n",
       "      <td>71</td>\n",
       "      <td>21</td>\n",
       "      <td>1</td>\n",
       "      <td>0</td>\n",
       "      <td>425</td>\n",
       "    </tr>\n",
       "    <tr>\n",
       "      <th>9</th>\n",
       "      <td>2020</td>\n",
       "      <td>0</td>\n",
       "      <td>79</td>\n",
       "      <td>86</td>\n",
       "      <td>85</td>\n",
       "      <td>62</td>\n",
       "      <td>61</td>\n",
       "      <td>53</td>\n",
       "      <td>18</td>\n",
       "      <td>1</td>\n",
       "      <td>0</td>\n",
       "      <td>445</td>\n",
       "    </tr>\n",
       "    <tr>\n",
       "      <th>10</th>\n",
       "      <td>2021</td>\n",
       "      <td>1</td>\n",
       "      <td>75</td>\n",
       "      <td>107</td>\n",
       "      <td>85</td>\n",
       "      <td>76</td>\n",
       "      <td>67</td>\n",
       "      <td>58</td>\n",
       "      <td>13</td>\n",
       "      <td>2</td>\n",
       "      <td>0</td>\n",
       "      <td>484</td>\n",
       "    </tr>\n",
       "  </tbody>\n",
       "</table>\n",
       "</div>"
      ],
      "text/plain": [
       "    Year  U12  U13  U14  U15  U16  U17  U18  U19  U20  OPEN  Total\n",
       "6   2017    0   42   53   65   69   64   73   17    0     0    383\n",
       "7   2018    0   57   55   58   62   74   54   19    1     0    380\n",
       "8   2019    2   67   78   64   61   60   71   21    1     0    425\n",
       "9   2020    0   79   86   85   62   61   53   18    1     0    445\n",
       "10  2021    1   75  107   85   76   67   58   13    2     0    484"
      ]
     },
     "execution_count": 24,
     "metadata": {},
     "output_type": "execute_result"
    }
   ],
   "source": [
    "# Comparing the trends and changes in the enrollment numbers before and after 2017\n",
    "# Filter the age_group dataset for years after 2017\n",
    "age_group_filtered = age_group[age_group['Year'] >= 2017]\n",
    "\n",
    "# Display the filtered dataset\n",
    "age_group_filtered.head()"
   ]
  },
  {
   "cell_type": "code",
   "execution_count": 25,
   "id": "fc6e28e0",
   "metadata": {},
   "outputs": [
    {
     "name": "stdout",
     "output_type": "stream",
     "text": [
      "Age group(s) with the highest increase in student count after 2017: U14\n"
     ]
    }
   ],
   "source": [
    "# Identifying the age group(s) that experienced the most significant changes \n",
    "# Exclude the 'Year' column from the calculation\n",
    "total_students_after_2017 = age_group_filtered.drop(['Year', 'Total'], axis=1).sum()\n",
    "\n",
    "# Find the age group(s) with the highest increase in student count\n",
    "age_group_with_highest_increase = total_students_after_2017.idxmax()\n",
    "\n",
    "# Print the age group(s) with the highest increase in student count after 2017\n",
    "print(\"Age group(s) with the highest increase in student count after 2017:\", age_group_with_highest_increase)\n"
   ]
  },
  {
   "cell_type": "code",
   "execution_count": 26,
   "id": "40afe99d",
   "metadata": {},
   "outputs": [
    {
     "data": {
      "image/png": "[encoded data removed]",
      "text/plain": [
       "<Figure size 720x432 with 1 Axes>"
      ]
     },
     "metadata": {
      "needs_background": "light"
     },
     "output_type": "display_data"
    }
   ],
   "source": [
    "# Assessing the overall trend in enrollment changes across all age groups to understand the general pattern, before introduction of girl\n",
    "# Filter the age_group dataset for years before 2017\n",
    "before_girls = age_group[age_group['Year'] < 2017]\n",
    "\n",
    "# Set the figure size\n",
    "plt.figure(figsize=(10, 6))\n",
    "\n",
    "# Iterate over each age group column\n",
    "for column in before_girls.columns[1:]:\n",
    "    # Plot the line graph for the specific age group\n",
    "    plt.plot(before_girls['Year'], before_girls[column], label=column)\n",
    "\n",
    "# Set the title and labels for the axes\n",
    "plt.title('Enrollment Trend by Age Group (Before Introduction of Girls)')\n",
    "plt.xlabel('Year')\n",
    "plt.ylabel('Number of Students')\n",
    "\n",
    "# Add a legend\n",
    "plt.legend()\n",
    "\n",
    "# Show the plot\n",
    "plt.show()"
   ]
  },
  {
   "cell_type": "code",
   "execution_count": 27,
   "id": "3b8894c2",
   "metadata": {},
   "outputs": [
    {
     "data": {
      "text/plain": [
       "'\\nFindings:\\n\\nOverall Enrollment Trend: The graph showcases fluctuations in enrollment numbers across different age groups before the \\nintroduction of girls.\\n\\nVariation among Age Groups: Each age group exhibits a distinct enrollment pattern.\\nYounger age groups, such as U12 and U13, demonstrate relatively stable enrollments over the years. \\nIn contrast, older age groups (U14 to U20) and the OPEN category display more variability in enrollments.\\n\\nGradual Decline in Older Age Groups: The enrollment numbers for the older age groups (U14 to U20) show a gradual decline over\\ntime. This suggests a decreasing trend in enrollments for these age groups.\\n\\nStability in Younger Age Groups: In contrast, the enrollments for U12 and U13 remain relatively stable throughout the observed \\nyears, indicating consistent student enrollment in these age groups.\\n\\nFluctuations in Enrollment: Some age groups, such as U14 to U20 and OPEN, experience fluctuations in enrollments with noticeable\\npeaks and dips over the years.\\n\\n'"
      ]
     },
     "execution_count": 27,
     "metadata": {},
     "output_type": "execute_result"
    }
   ],
   "source": [
    "\"\"\"\n",
    "Findings:\n",
    "\n",
    "Overall Enrollment Trend: The graph showcases fluctuations in enrollment numbers across different age groups before the \n",
    "introduction of girls.\n",
    "\n",
    "Variation among Age Groups: Each age group exhibits a distinct enrollment pattern.\n",
    "Younger age groups, such as U12 and U13, demonstrate relatively stable enrollments over the years. \n",
    "In contrast, older age groups (U14 to U20) and the OPEN category display more variability in enrollments.\n",
    "\n",
    "Gradual Decline in Older Age Groups: The enrollment numbers for the older age groups (U14 to U20) show a gradual decline over\n",
    "time. This suggests a decreasing trend in enrollments for these age groups.\n",
    "\n",
    "Stability in Younger Age Groups: In contrast, the enrollments for U12 and U13 remain relatively stable throughout the observed \n",
    "years, indicating consistent student enrollment in these age groups.\n",
    "\n",
    "Fluctuations in Enrollment: Some age groups, such as U14 to U20 and OPEN, experience fluctuations in enrollments with noticeable\n",
    "peaks and dips over the years.\n",
    "\n",
    "\"\"\""
   ]
  },
  {
   "cell_type": "code",
   "execution_count": 28,
   "id": "7b492ea5",
   "metadata": {},
   "outputs": [
    {
     "data": {
      "image/png": "[encoded data removed]",
      "text/plain": [
       "<Figure size 720x432 with 1 Axes>"
      ]
     },
     "metadata": {
      "needs_background": "light"
     },
     "output_type": "display_data"
    }
   ],
   "source": [
    "# Assessing the overall trend in enrollment changes across all age groups to understand the general pattern, after introduction of girl\n",
    "# Set the figure size\n",
    "plt.figure(figsize=(10, 6))\n",
    "\n",
    "# Iterate over each age group column\n",
    "for column in age_group_filtered.columns[1:]:\n",
    "    # Plot the line graph for the specific age group\n",
    "    plt.plot(age_group_filtered['Year'], age_group_filtered[column], label=column)\n",
    "\n",
    "# Set the title and labels for the axes\n",
    "plt.title('Enrollment Trend by Age Group (after 2017)')\n",
    "plt.xlabel('Year')\n",
    "plt.ylabel('Number of Students')\n",
    "\n",
    "# Add a legend\n",
    "plt.legend()\n",
    "\n",
    "# Show the plot\n",
    "plt.show()"
   ]
  },
  {
   "cell_type": "code",
   "execution_count": 29,
   "id": "72348ece",
   "metadata": {},
   "outputs": [
    {
     "data": {
      "text/plain": [
       "'\\nFindings:\\n\\nOverall Enrollment Trend: The graph represents the trend of enrollment changes across different age groups after the \\nintroduction of girls.\\n\\nIncrease in U14 Enrollment: Among the age groups, U14 stands out with the highest increase in student count after 2017. \\nThis indicates a significant impact of the introduction of girls on the enrollment of this age group.\\n\\nVaried Enrollment Patterns: Other age groups also demonstrate changes in enrollment, albeit to a lesser extent. \\nIt suggests a positive overall trend in enrollment across multiple age groups.\\n\\nImplication of Gender Inclusion: The introduction of girls appears to have contributed to a more diverse and inclusive \\nparticipation in the program, as indicated by the increase in enrollment numbers across various age groups.\\n'"
      ]
     },
     "execution_count": 29,
     "metadata": {},
     "output_type": "execute_result"
    }
   ],
   "source": [
    "\"\"\"\n",
    "Findings:\n",
    "\n",
    "Overall Enrollment Trend: The graph represents the trend of enrollment changes across different age groups after the \n",
    "introduction of girls.\n",
    "\n",
    "Increase in U14 Enrollment: Among the age groups, U14 stands out with the highest increase in student count after 2017. \n",
    "This indicates a significant impact of the introduction of girls on the enrollment of this age group.\n",
    "\n",
    "Varied Enrollment Patterns: Other age groups also demonstrate changes in enrollment, albeit to a lesser extent. \n",
    "It suggests a positive overall trend in enrollment across multiple age groups.\n",
    "\n",
    "Implication of Gender Inclusion: The introduction of girls appears to have contributed to a more diverse and inclusive \n",
    "participation in the program, as indicated by the increase in enrollment numbers across various age groups.\n",
    "\"\"\""
   ]
  },
  {
   "cell_type": "code",
   "execution_count": 18,
   "id": "190037e2",
   "metadata": {},
   "outputs": [
    {
     "name": "stdout",
     "output_type": "stream",
     "text": [
      "<class 'pandas.core.frame.DataFrame'>\n",
      "RangeIndex: 14 entries, 0 to 13\n",
      "Data columns (total 5 columns):\n",
      " #   Column      Non-Null Count  Dtype \n",
      "---  ------      --------------  ----- \n",
      " 0   Unnamed: 0  14 non-null     object\n",
      " 1   L6          14 non-null     object\n",
      " 2   Unnamed: 2  14 non-null     object\n",
      " 3   U6          14 non-null     object\n",
      " 4   Unnamed: 4  14 non-null     object\n",
      "dtypes: object(5)\n",
      "memory usage: 688.0+ bytes\n",
      "<class 'pandas.core.frame.DataFrame'>\n",
      "RangeIndex: 13 entries, 0 to 12\n",
      "Data columns (total 4 columns):\n",
      " #   Column                Non-Null Count  Dtype \n",
      "---  ------                --------------  ----- \n",
      " 0   SUBJECT PASS RATES %  13 non-null     object\n",
      " 1   Unnamed: 1            13 non-null     object\n",
      " 2   Unnamed: 2            13 non-null     object\n",
      " 3   Unnamed: 3            13 non-null     object\n",
      "dtypes: object(4)\n",
      "memory usage: 544.0+ bytes\n"
     ]
    }
   ],
   "source": [
    "forms = pd.read_csv(\"C:/Users/Olidia/Desktop/Projects/Falcon/Forms.csv\")\n",
    "pass_rates = pd.read_csv(\"C:/Users/Olidia/Desktop/Projects/Falcon/PassRates.csv\")\n",
    "\n",
    "forms.info()\n",
    "pass_rates.info()"
   ]
  },
  {
   "cell_type": "code",
   "execution_count": 19,
   "id": "dc9bc2b1",
   "metadata": {},
   "outputs": [
    {
     "data": {
      "text/html": [
       "<div>\n",
       "<style scoped>\n",
       "    .dataframe tbody tr th:only-of-type {\n",
       "        vertical-align: middle;\n",
       "    }\n",
       "\n",
       "    .dataframe tbody tr th {\n",
       "        vertical-align: top;\n",
       "    }\n",
       "\n",
       "    .dataframe thead th {\n",
       "        text-align: right;\n",
       "    }\n",
       "</style>\n",
       "<table border=\"1\" class=\"dataframe\">\n",
       "  <thead>\n",
       "    <tr style=\"text-align: right;\">\n",
       "      <th></th>\n",
       "      <th>Year</th>\n",
       "      <th>L6_Male</th>\n",
       "      <th>L6_Female</th>\n",
       "      <th>U6_Male</th>\n",
       "      <th>U6_Female</th>\n",
       "    </tr>\n",
       "  </thead>\n",
       "  <tbody>\n",
       "    <tr>\n",
       "      <th>1</th>\n",
       "      <td>2011</td>\n",
       "      <td>80</td>\n",
       "      <td>0</td>\n",
       "      <td>44</td>\n",
       "      <td>0</td>\n",
       "    </tr>\n",
       "    <tr>\n",
       "      <th>2</th>\n",
       "      <td>2012</td>\n",
       "      <td>65</td>\n",
       "      <td>0</td>\n",
       "      <td>64</td>\n",
       "      <td>0</td>\n",
       "    </tr>\n",
       "    <tr>\n",
       "      <th>3</th>\n",
       "      <td>2013</td>\n",
       "      <td>72</td>\n",
       "      <td>0</td>\n",
       "      <td>48</td>\n",
       "      <td>0</td>\n",
       "    </tr>\n",
       "    <tr>\n",
       "      <th>4</th>\n",
       "      <td>2014</td>\n",
       "      <td>72</td>\n",
       "      <td>0</td>\n",
       "      <td>54</td>\n",
       "      <td>0</td>\n",
       "    </tr>\n",
       "    <tr>\n",
       "      <th>5</th>\n",
       "      <td>2015</td>\n",
       "      <td>59</td>\n",
       "      <td>0</td>\n",
       "      <td>61</td>\n",
       "      <td>0</td>\n",
       "    </tr>\n",
       "    <tr>\n",
       "      <th>6</th>\n",
       "      <td>2016</td>\n",
       "      <td>71</td>\n",
       "      <td>0</td>\n",
       "      <td>56</td>\n",
       "      <td>0</td>\n",
       "    </tr>\n",
       "    <tr>\n",
       "      <th>7</th>\n",
       "      <td>2017</td>\n",
       "      <td>59</td>\n",
       "      <td>2</td>\n",
       "      <td>64</td>\n",
       "      <td>2</td>\n",
       "    </tr>\n",
       "    <tr>\n",
       "      <th>8</th>\n",
       "      <td>2018</td>\n",
       "      <td>64</td>\n",
       "      <td>5</td>\n",
       "      <td>46</td>\n",
       "      <td>2</td>\n",
       "    </tr>\n",
       "    <tr>\n",
       "      <th>9</th>\n",
       "      <td>2019</td>\n",
       "      <td>51</td>\n",
       "      <td>7</td>\n",
       "      <td>58</td>\n",
       "      <td>6</td>\n",
       "    </tr>\n",
       "    <tr>\n",
       "      <th>10</th>\n",
       "      <td>2020</td>\n",
       "      <td>56</td>\n",
       "      <td>7</td>\n",
       "      <td>41</td>\n",
       "      <td>6</td>\n",
       "    </tr>\n",
       "  </tbody>\n",
       "</table>\n",
       "</div>"
      ],
      "text/plain": [
       "    Year L6_Male L6_Female U6_Male U6_Female\n",
       "1   2011      80         0      44         0\n",
       "2   2012      65         0      64         0\n",
       "3   2013      72         0      48         0\n",
       "4   2014      72         0      54         0\n",
       "5   2015      59         0      61         0\n",
       "6   2016      71         0      56         0\n",
       "7   2017      59         2      64         2\n",
       "8   2018      64         5      46         2\n",
       "9   2019      51         7      58         6\n",
       "10  2020      56         7      41         6"
      ]
     },
     "execution_count": 19,
     "metadata": {},
     "output_type": "execute_result"
    }
   ],
   "source": [
    "forms = forms.rename(columns={'Unnamed: 0': 'Year', 'L6': 'L6_Male', 'Unnamed: 2': 'L6_Female', 'U6': 'U6_Male', 'Unnamed: 4': 'U6_Female'})\n",
    "forms = forms.drop(0)\n",
    "forms.head(10)"
   ]
  },
  {
   "cell_type": "code",
   "execution_count": 20,
   "id": "23637635",
   "metadata": {},
   "outputs": [
    {
     "data": {
      "text/html": [
       "<div>\n",
       "<style scoped>\n",
       "    .dataframe tbody tr th:only-of-type {\n",
       "        vertical-align: middle;\n",
       "    }\n",
       "\n",
       "    .dataframe tbody tr th {\n",
       "        vertical-align: top;\n",
       "    }\n",
       "\n",
       "    .dataframe thead th {\n",
       "        text-align: right;\n",
       "    }\n",
       "</style>\n",
       "<table border=\"1\" class=\"dataframe\">\n",
       "  <thead>\n",
       "    <tr style=\"text-align: right;\">\n",
       "      <th></th>\n",
       "      <th>Year</th>\n",
       "      <th>IGCSE</th>\n",
       "      <th>AS</th>\n",
       "      <th>A Level</th>\n",
       "    </tr>\n",
       "  </thead>\n",
       "  <tbody>\n",
       "    <tr>\n",
       "      <th>1</th>\n",
       "      <td>2011</td>\n",
       "      <td>79</td>\n",
       "      <td>79</td>\n",
       "      <td>88</td>\n",
       "    </tr>\n",
       "    <tr>\n",
       "      <th>2</th>\n",
       "      <td>2012</td>\n",
       "      <td>83</td>\n",
       "      <td>83</td>\n",
       "      <td>89</td>\n",
       "    </tr>\n",
       "    <tr>\n",
       "      <th>3</th>\n",
       "      <td>2013</td>\n",
       "      <td>86</td>\n",
       "      <td>80</td>\n",
       "      <td>86</td>\n",
       "    </tr>\n",
       "    <tr>\n",
       "      <th>4</th>\n",
       "      <td>2014</td>\n",
       "      <td>78</td>\n",
       "      <td>88</td>\n",
       "      <td>93</td>\n",
       "    </tr>\n",
       "    <tr>\n",
       "      <th>5</th>\n",
       "      <td>2015</td>\n",
       "      <td>80</td>\n",
       "      <td>80</td>\n",
       "      <td>93</td>\n",
       "    </tr>\n",
       "    <tr>\n",
       "      <th>6</th>\n",
       "      <td>2016</td>\n",
       "      <td>78</td>\n",
       "      <td>80</td>\n",
       "      <td>87</td>\n",
       "    </tr>\n",
       "    <tr>\n",
       "      <th>7</th>\n",
       "      <td>2017</td>\n",
       "      <td>77</td>\n",
       "      <td>75</td>\n",
       "      <td>95</td>\n",
       "    </tr>\n",
       "    <tr>\n",
       "      <th>8</th>\n",
       "      <td>2018</td>\n",
       "      <td>71</td>\n",
       "      <td>81</td>\n",
       "      <td>92</td>\n",
       "    </tr>\n",
       "    <tr>\n",
       "      <th>9</th>\n",
       "      <td>2019</td>\n",
       "      <td>80</td>\n",
       "      <td>79</td>\n",
       "      <td>88</td>\n",
       "    </tr>\n",
       "    <tr>\n",
       "      <th>10</th>\n",
       "      <td>2020</td>\n",
       "      <td>76</td>\n",
       "      <td>83</td>\n",
       "      <td>96</td>\n",
       "    </tr>\n",
       "  </tbody>\n",
       "</table>\n",
       "</div>"
      ],
      "text/plain": [
       "    Year IGCSE  AS A Level\n",
       "1   2011    79  79      88\n",
       "2   2012    83  83      89\n",
       "3   2013    86  80      86\n",
       "4   2014    78  88      93\n",
       "5   2015    80  80      93\n",
       "6   2016    78  80      87\n",
       "7   2017    77  75      95\n",
       "8   2018    71  81      92\n",
       "9   2019    80  79      88\n",
       "10  2020    76  83      96"
      ]
     },
     "execution_count": 20,
     "metadata": {},
     "output_type": "execute_result"
    }
   ],
   "source": [
    "pass_rates = pass_rates.rename(columns={'SUBJECT PASS RATES %': 'Year', 'Unnamed: 1': 'IGCSE', 'Unnamed: 2': 'AS', 'Unnamed: 3': 'A Level'})\n",
    "pass_rates = pass_rates.drop(0)\n",
    "pass_rates.head(10)"
   ]
  },
  {
   "cell_type": "code",
   "execution_count": 21,
   "id": "179d8c2d",
   "metadata": {},
   "outputs": [
    {
     "data": {
      "image/png": "[encoded data removed]",
      "text/plain": [
       "<Figure size 432x288 with 1 Axes>"
      ]
     },
     "metadata": {
      "needs_background": "light"
     },
     "output_type": "display_data"
    },
    {
     "data": {
      "image/png": "[encoded data removed]",
      "text/plain": [
       "<Figure size 432x288 with 1 Axes>"
      ]
     },
     "metadata": {
      "needs_background": "light"
     },
     "output_type": "display_data"
    }
   ],
   "source": [
    "# Merge the \"forms\" and \"pass_rates\" DataFrames based on the \"Year\" column\n",
    "merged_data = forms.merge(pass_rates, on ='Year')\n",
    "\n",
    "merged_data['Total_L6'] = merged_data['L6_Male'] + merged_data['L6_Female']\n",
    "merged_data['Total_U6'] = merged_data['U6_Male'] + merged_data['U6_Female']\n",
    "\n",
    "plt.plot(merged_data['Year'], merged_data['IGCSE'], label ='IGCSE Pass Rate')\n",
    "plt.plot(merged_data['Year'], merged_data['AS'], label ='AS Pass Rate')\n",
    "plt.plot(merged_data['Year'], merged_data['A Level'], label ='A Level Pass Rate')\n",
    "plt.xlabel('Year')\n",
    "plt.ylabel('Pass Rate')\n",
    "plt.title('Pass Rates Over the Years')\n",
    "plt.legend()\n",
    "plt.show()\n",
    "\n",
    "plt.plot(merged_data['Year'], merged_data['Total_L6'], label ='Lower 6 Enrollment')\n",
    "plt.plot(merged_data['Year'], merged_data['Total_U6'], label ='Upper 6 Enrollment')\n",
    "plt.xlabel('Year')\n",
    "plt.ylabel('Number of Students')\n",
    "plt.title('L6 and U6 Enrollment Over the Years')\n",
    "plt.legend()\n",
    "plt.show()"
   ]
  },
  {
   "cell_type": "code",
   "execution_count": 22,
   "id": "68481dd4",
   "metadata": {},
   "outputs": [
    {
     "data": {
      "text/plain": [
       "'\\nFindings:\\nThe first graph illustrates the pass rates for different levels of examinations (IGCSE, AS, and A Level) over the years.\\n\\nPass Rates: The pass rates for IGCSE, AS, and A Level exams show relatively consistent performance. \\nA Level exams consistently show the highest pass rates among the three levels.\\nAlthough the pass rates remain relatively stable, there are minor fluctuations observed.\\n\\nThe second graph showcases the enrollment trends for Lower 6 (L6) and Upper 6 (U6) students over the years.\\n\\nL6 Enrollment: The number of students enrolled in L6 remains relatively stable, with minor fluctuations observed over the years. The L6 enrollment ranges from 46 to 80 students, indicating a consistent intake of students in this phase of education.\\n\\nU6 Enrollment: U6 enrollment also shows some fluctuations but maintains a relatively steady trend. \\n\\nGender Distribution: The graph does not provide a clear distinction in enrollment between male and female students.\\nHowever, it can be inferred that both male and female students are represented in the L6 and U6 enrollment figures.\\nThe introduction of girls in 2017 is reflected in the enrollment numbers, with a slight increase in both male and female\\nstudents in L6 and U6 from that point onwards.\\n\\nOverall, the data indicates consistent pass rates across different examination levels over the years, with minor fluctuations.\\nAdditionally, the enrollment numbers for L6 and U6 students remain relatively stable, indicating a consistent intake of students in these phases of education.\\n'"
      ]
     },
     "execution_count": 22,
     "metadata": {},
     "output_type": "execute_result"
    }
   ],
   "source": [
    "\"\"\"\n",
    "Findings:\n",
    "The first graph illustrates the pass rates for different levels of examinations (IGCSE, AS, and A Level) over the years.\n",
    "\n",
    "Pass Rates: The pass rates for IGCSE, AS, and A Level exams show relatively consistent performance. \n",
    "A Level exams consistently show the highest pass rates among the three levels.\n",
    "Although the pass rates remain relatively stable, there are minor fluctuations observed.\n",
    "\n",
    "The second graph showcases the enrollment trends for Lower 6 (L6) and Upper 6 (U6) students over the years.\n",
    "\n",
    "L6 Enrollment: The number of students enrolled in L6 remains relatively stable, with minor fluctuations observed over the years. The L6 enrollment ranges from 46 to 80 students, indicating a consistent intake of students in this phase of education.\n",
    "\n",
    "U6 Enrollment: U6 enrollment also shows some fluctuations but maintains a relatively steady trend. \n",
    "\n",
    "Gender Distribution: The graph does not provide a clear distinction in enrollment between male and female students.\n",
    "However, it can be inferred that both male and female students are represented in the L6 and U6 enrollment figures.\n",
    "The introduction of girls in 2017 is reflected in the enrollment numbers, with a slight increase in both male and female\n",
    "students in L6 and U6 from that point onwards.\n",
    "\n",
    "Overall, the data indicates consistent pass rates across different examination levels over the years, with minor fluctuations.\n",
    "Additionally, the enrollment numbers for L6 and U6 students remain relatively stable, indicating a consistent intake of students in these phases of education.\n",
    "\"\"\""
   ]
  },
  {
   "cell_type": "code",
   "execution_count": 30,
   "id": "52d525eb",
   "metadata": {},
   "outputs": [],
   "source": [
    "# Convert columns to numeric data types\n",
    "merged_data['L6_Male'] = pd.to_numeric(merged_data['L6_Male'])\n",
    "merged_data['L6_Female'] = pd.to_numeric(merged_data['L6_Female'])\n",
    "merged_data['U6_Male'] = pd.to_numeric(merged_data['U6_Male'])\n",
    "merged_data['U6_Female'] = pd.to_numeric(merged_data['U6_Female'])\n",
    "merged_data['Total_L6'] = pd.to_numeric(merged_data['Total_L6'])\n",
    "merged_data['Total_U6'] = pd.to_numeric(merged_data['Total_U6'])\n",
    "merged_data['A Level'] = pd.to_numeric(merged_data['A Level'])\n",
    "merged_data['AS'] = pd.to_numeric(merged_data['AS'])\n",
    "\n",
    "# Calculate pass rates for Lower 6 Male and Female\n",
    "merged_data['PassRate_L6_Male'] = (merged_data['L6_Male'] / merged_data['Total_L6']) * merged_data['AS']\n",
    "merged_data['PassRate_L6_Female'] = (merged_data['L6_Female'] / merged_data['Total_L6']) * merged_data['AS']\n",
    "\n",
    "# Calculate pass rates for Upper 6 Male and Female\n",
    "merged_data['PassRate_U6_Male'] = (merged_data['U6_Male'] / merged_data['Total_U6']) * merged_data['A Level']\n",
    "merged_data['PassRate_U6_Female'] = (merged_data['U6_Female'] / merged_data['Total_U6']) * merged_data['A Level']\n"
   ]
  },
  {
   "cell_type": "code",
   "execution_count": 31,
   "id": "50c8dc18",
   "metadata": {},
   "outputs": [
    {
     "data": {
      "image/png": "[encoded data removed]",
      "text/plain": [
       "<Figure size 432x288 with 1 Axes>"
      ]
     },
     "metadata": {
      "needs_background": "light"
     },
     "output_type": "display_data"
    },
    {
     "name": "stdout",
     "output_type": "stream",
     "text": [
      "    Year  L6_Male  L6_Female  U6_Male  U6_Female IGCSE  AS  A Level  Total_L6  \\\n",
      "0   2011       80          0       44          0    79  79       88       800   \n",
      "1   2012       65          0       64          0    83  83       89       650   \n",
      "2   2013       72          0       48          0    86  80       86       720   \n",
      "3   2014       72          0       54          0    78  88       93       720   \n",
      "4   2015       59          0       61          0    80  80       93       590   \n",
      "5   2016       71          0       56          0    78  80       87       710   \n",
      "6   2017       59          2       64          2    77  75       95       592   \n",
      "7   2018       64          5       46          2    71  81       92       645   \n",
      "8   2019       51          7       58          6    80  79       88       517   \n",
      "9   2020       56          7       41          6    76  83       96       567   \n",
      "10  2021       46         12       45          7    78  85       94      4612   \n",
      "11  2022       70         13       37         11    74  77       90      7013   \n",
      "\n",
      "    Total_U6  PassRate_L6_Male  PassRate_L6_Female  PassRate_U6_Male  \\\n",
      "0        440          7.900000            0.000000          8.800000   \n",
      "1        640          8.300000            0.000000          8.900000   \n",
      "2        480          8.000000            0.000000          8.600000   \n",
      "3        540          8.800000            0.000000          9.300000   \n",
      "4        610          8.000000            0.000000          9.300000   \n",
      "5        560          8.000000            0.000000          8.700000   \n",
      "6        642          7.474662            0.253378          9.470405   \n",
      "7        462          8.037209            0.627907          9.160173   \n",
      "8        586          7.793037            1.069632          8.709898   \n",
      "9        416          8.197531            1.024691          9.461538   \n",
      "10       457          0.847788            0.221162          9.256018   \n",
      "11      3711          0.768573            0.142735          0.897332   \n",
      "\n",
      "    PassRate_U6_Female  \n",
      "0             0.000000  \n",
      "1             0.000000  \n",
      "2             0.000000  \n",
      "3             0.000000  \n",
      "4             0.000000  \n",
      "5             0.000000  \n",
      "6             0.295950  \n",
      "7             0.398268  \n",
      "8             0.901024  \n",
      "9             1.384615  \n",
      "10            1.439825  \n",
      "11            0.266774  \n"
     ]
    }
   ],
   "source": [
    "# Compare pass rates based on gender\n",
    "# Filter the data for years before 2017\n",
    "data_after_2017 = merged_data[merged_data['Year'] >= '2017']\n",
    "\n",
    "plt.plot(merged_data['Year'], merged_data['PassRate_L6_Male'], label='Lower 6 Male')\n",
    "plt.plot(data_after_2017['Year'],data_after_2017['PassRate_L6_Female'], label='Lower 6 Female')\n",
    "plt.plot(merged_data['Year'], merged_data['PassRate_U6_Male'], label='Upper 6 Male')\n",
    "plt.plot(data_after_2017['Year'], data_after_2017['PassRate_U6_Female'], label='Upper 6 Female')\n",
    "plt.xlabel('Year')\n",
    "plt.ylabel('Pass Rate')\n",
    "plt.title('Pass Rates by Gender')\n",
    "plt.legend()\n",
    "plt.show()\n",
    "\n",
    "print(merged_data)"
   ]
  },
  {
   "cell_type": "code",
   "execution_count": 25,
   "id": "8c72c8e4",
   "metadata": {},
   "outputs": [
    {
     "data": {
      "image/png": "[encoded data removed]",
      "text/plain": [
       "<Figure size 432x288 with 1 Axes>"
      ]
     },
     "metadata": {
      "needs_background": "light"
     },
     "output_type": "display_data"
    }
   ],
   "source": [
    "# Compare pass rates before and after 2017\n",
    "pass_rate_before_2017 = merged_data[merged_data['Year'] < '2017']\n",
    "pass_rate_after_2017 = merged_data[merged_data['Year'] >= '2017']\n",
    "\n",
    "mean_pass_rate_before_L6_Male = pass_rate_before_2017['PassRate_L6_Male'].mean()\n",
    "mean_pass_rate_before_U6_Male = pass_rate_before_2017['PassRate_U6_Male'].mean()\n",
    "\n",
    "mean_pass_rate_after_L6_Male = pass_rate_after_2017['PassRate_L6_Male'].mean()\n",
    "mean_pass_rate_after_U6_Male = pass_rate_after_2017['PassRate_U6_Male'].mean()\n",
    "\n",
    "# Plot mean pass rates before and after 2017\n",
    "categories = ['Lower 6 Male', 'Upper 6 Male']\n",
    "mean_pass_rates_before = [mean_pass_rate_before_L6_Male, mean_pass_rate_before_U6_Male]\n",
    "mean_pass_rates_after = [mean_pass_rate_after_L6_Male, mean_pass_rate_after_U6_Male]\n",
    "\n",
    "width = 0.35  # Width of the bars\n",
    "x = np.arange(len(categories))\n",
    "\n",
    "plt.bar(x - width/2, mean_pass_rates_before, width, label='Before 2017')\n",
    "plt.bar(x + width/2, mean_pass_rates_after, width, label='After 2017')\n",
    "plt.xlabel('Gender Group')\n",
    "plt.ylabel('Mean Pass Rate')\n",
    "plt.title('Mean Pass Rates Before and After 2017')\n",
    "plt.xticks(x, categories)\n",
    "plt.legend()\n",
    "plt.show()"
   ]
  },
  {
   "cell_type": "code",
   "execution_count": 81,
   "id": "4ee71ee2",
   "metadata": {},
   "outputs": [],
   "source": [
    "#R\n",
    "# Read the Forms.csv file\n",
    "forms <- read.csv(\"C:/Users/Olidia/Desktop/Projects/Falcon/Forms.csv\")\n",
    "\n",
    "# Read the PassRates.csv file\n",
    "pass_rates <- read.csv(\"C:/Users/Olidia/Desktop/Projects/Falcon/PassRates.csv\")\n",
    "\n",
    "# Rename columns in forms DataFrame\n",
    "colnames(forms) <- c('Year', 'L6_Male', 'L6_Female', 'U6_Male', 'U6_Female')\n",
    "\n",
    "# Drop the first row in forms DataFrame\n",
    "forms <- forms[-1, ]\n",
    "\n",
    "# Rename columns in pass_rates DataFrame\n",
    "colnames(pass_rates) <- c('Year', 'IGCSE', 'AS', 'A_Level')\n",
    "\n",
    "# Drop the first row in pass_rates DataFrame\n",
    "pass_rates <- pass_rates[-1, ]"
   ]
  },
  {
   "cell_type": "code",
   "execution_count": 41,
   "id": "ec7bdf35",
   "metadata": {},
   "outputs": [
    {
     "name": "stdout",
     "output_type": "stream",
     "text": [
      "   Year L6_Male L6_Female U6_Male U6_Female IGCSE AS A_Level Total_L6 Total_U6\n",
      "1  2011      80         0      44         0    79 79      88       80       44\n",
      "2  2012      65         0      64         0    83 83      89       65       64\n",
      "3  2013      72         0      48         0    86 80      86       72       48\n",
      "4  2014      72         0      54         0    78 88      93       72       54\n",
      "5  2015      59         0      61         0    80 80      93       59       61\n",
      "6  2016      71         0      56         0    78 80      87       71       56\n",
      "7  2017      59         2      64         2    77 75      95       61       66\n",
      "8  2018      64         5      46         2    71 81      92       69       48\n",
      "9  2019      51         7      58         6    80 79      88       58       64\n",
      "10 2020      56         7      41         6    76 83      96       63       47\n",
      "11 2021      46        12      45         7    78 85      94       58       52\n",
      "12 2022      70        13      37        11    74 77      90       83       48\n"
     ]
    }
   ],
   "source": [
    "# Merge the \"forms\" and \"pass_rates\" DataFrames based on the \"Year\" column\n",
    "merged_data <- merge(forms, pass_rates, by = 'Year')\n",
    "\n",
    "# Convert columns to numeric data types\n",
    "merged_data$L6_Male <- as.numeric(merged_data$L6_Male)\n",
    "merged_data$L6_Female <- as.numeric(merged_data$L6_Female)\n",
    "merged_data$U6_Male <- as.numeric(merged_data$U6_Male)\n",
    "merged_data$U6_Female <- as.numeric(merged_data$U6_Female)\n",
    "\n",
    "# Create the \"Total_L6\" and \"Total_U6\" columns by summing the male and female counts\n",
    "merged_data$Total_L6 <- merged_data$L6_Male + merged_data$L6_Female\n",
    "merged_data$Total_U6 <- merged_data$U6_Male + merged_data$U6_Female\n",
    "\n",
    "# Print the merged data\n",
    "print(merged_data)"
   ]
  },
  {
   "cell_type": "code",
   "execution_count": 57,
   "id": "57c608f6",
   "metadata": {},
   "outputs": [
    {
     "name": "stdout",
     "output_type": "stream",
     "text": [
      "   Year L6_Male L6_Female U6_Male U6_Female IGCSE AS A_Level Total_L6 Total_U6\n",
      "1  2011      80         0      44         0    79 79      88       80       44\n",
      "2  2012      65         0      64         0    83 83      89       65       64\n",
      "3  2013      72         0      48         0    86 80      86       72       48\n",
      "4  2014      72         0      54         0    78 88      93       72       54\n",
      "5  2015      59         0      61         0    80 80      93       59       61\n",
      "6  2016      71         0      56         0    78 80      87       71       56\n",
      "7  2017      59         2      64         2    77 75      95       61       66\n",
      "8  2018      64         5      46         2    71 81      92       69       48\n",
      "9  2019      51         7      58         6    80 79      88       58       64\n",
      "10 2020      56         7      41         6    76 83      96       63       47\n",
      "11 2021      46        12      45         7    78 85      94       58       52\n",
      "12 2022      70        13      37        11    74 77      90       83       48\n",
      "   PassRate_L6_Male PassRate_U6_Male diff_L6_Male diff_U6_Male\n",
      "1          79.00000         88.00000    -6.459016    4.1212121\n",
      "2          83.00000         89.00000    -7.869565   -0.8333333\n",
      "3          80.00000         86.00000   -10.534483   -6.2500000\n",
      "4          88.00000         93.00000   -14.222222   -9.2553191\n",
      "5          80.00000         93.00000   -12.586207  -11.6538462\n",
      "6          80.00000         87.00000   -15.060241  -17.6250000\n",
      "7          72.54098         92.12121    -6.459016    4.1212121\n",
      "8          75.13043         88.16667    -7.869565   -0.8333333\n",
      "9          69.46552         79.75000   -10.534483   -6.2500000\n",
      "10         73.77778         83.74468   -14.222222   -9.2553191\n",
      "11         67.41379         81.34615   -12.586207  -11.6538462\n",
      "12         64.93976         69.37500   -15.060241  -17.6250000\n"
     ]
    }
   ],
   "source": [
    "# Convert columns to numeric data types\n",
    "merged_data$Total_L6 <- as.numeric(merged_data$Total_L6)\n",
    "merged_data$Total_U6 <- as.numeric(merged_data$Total_U6)\n",
    "merged_data$A_Level <- as.numeric(merged_data$A_Level)\n",
    "merged_data$AS <- as.numeric(merged_data$AS)\n",
    "\n",
    "# Calculate pass rates\n",
    "merged_data$PassRate_L6_Male <- (merged_data$L6_Male / merged_data$Total_L6) * merged_data$AS\n",
    "merged_data$PassRate_U6_Male <- (merged_data$U6_Male / merged_data$Total_U6) * merged_data$A_Level\n",
    "\n",
    "# Compare pass rates before and after 2017\n",
    "pass_rate_before_2017 <- merged_data[merged_data$Year < 2017, ]\n",
    "pass_rate_after_2017 <- merged_data[merged_data$Year >= 2017, ]\n",
    "\n",
    "# Calculate the differences in pass rates\n",
    "merged_data$diff_L6_Male <- pass_rate_after_2017$PassRate_L6_Male - pass_rate_before_2017$PassRate_L6_Male\n",
    "merged_data$diff_U6_Male <- pass_rate_after_2017$PassRate_U6_Male - pass_rate_before_2017$PassRate_U6_Male\n",
    "\n",
    "print(merged_data)\n"
   ]
  },
  {
   "cell_type": "code",
   "execution_count": 60,
   "id": "3434fe19",
   "metadata": {},
   "outputs": [
    {
     "data": {
      "text/plain": [
       "   Min. 1st Qu.  Median    Mean 3rd Qu.    Max. \n",
       "-15.060 -14.222 -11.560 -11.122  -7.870  -6.459 "
      ]
     },
     "metadata": {},
     "output_type": "display_data"
    },
    {
     "data": {
      "text/plain": [
       "    Min.  1st Qu.   Median     Mean  3rd Qu.     Max. \n",
       "-17.6250 -11.6538  -7.7527  -6.9160  -0.8333   4.1212 "
      ]
     },
     "metadata": {},
     "output_type": "display_data"
    }
   ],
   "source": [
    "# Hypothesis test to determine if there is a significant difference in the mean pass rates on the male gender group before and after 2017.\n",
    "#This will allow us to assess whether any significant differences exist in their performance.\n",
    "\n",
    "# Simple statistics for these variables\n",
    "summary(merged_data$diff_L6_Male)\n",
    "summary(merged_data$diff_U6_Male)"
   ]
  },
  {
   "cell_type": "code",
   "execution_count": 79,
   "id": "2926c76d",
   "metadata": {},
   "outputs": [
    {
     "data": {
      "image/png": "[encoded data removed]",
      "text/plain": [
       "Plot with title \"Box Plot of Differences in Pass Rates\""
      ]
     },
     "metadata": {
      "image/png": {
       "height": 420,
       "width": 420
      }
     },
     "output_type": "display_data"
    }
   ],
   "source": [
    "# Box-plot and Histogram to get a graphical idea of the distributional properties\n",
    "# Combine L6 and U6 pass rate differences into a single vector\n",
    "diff_pass_rate <- c(merged_data$diff_L6_Male, merged_data$diff_U6_Male)\n",
    "\n",
    "# Create a box plot for the combined pass rate differences\n",
    "boxplot(diff_pass_rate, main = \"Box Plot of Differences in Pass Rates\")\n"
   ]
  },
  {
   "cell_type": "code",
   "execution_count": 69,
   "id": "8a718f0a",
   "metadata": {},
   "outputs": [
    {
     "data": {
      "text/plain": [
       "\n",
       "\tShapiro-Wilk normality test\n",
       "\n",
       "data:  diff_pass_rate\n",
       "W = 0.93024, p-value = 0.0987\n"
      ]
     },
     "metadata": {},
     "output_type": "display_data"
    },
    {
     "data": {
      "image/png": "[encoded data removed]",
      "text/plain": [
       "Plot with title \"Histogram of Differences in Pass Rates\""
      ]
     },
     "metadata": {
      "image/png": {
       "height": 420,
       "width": 420
      }
     },
     "output_type": "display_data"
    }
   ],
   "source": [
    "# Test for normality\n",
    "# H0: Differences are from a normal population vs HA: Non-normal\n",
    "shapiro.test(diff_pass_rate)\n",
    "\n",
    "# Create a histogram for the combined pass rate differences\n",
    "par(mfcol = c(2, 1))\n",
    "qqnorm(diff_pass_rate)\n",
    "qqline(diff_pass_rate)\n",
    "hist(diff_pass_rate, freq = FALSE, col = \"lightblue\", main = \"Histogram of Differences in Pass Rates\")\n",
    "d <- density(diff_pass_rate)\n",
    "lines(d, lwd = 2, col = \"red\")\n",
    "lines(d$x, dnorm(d$x, mean(diff_pass_rate), sd(diff_pass_rate)), lwd = 2, col = \"blue\")"
   ]
  },
  {
   "cell_type": "code",
   "execution_count": 75,
   "id": "807a5c80",
   "metadata": {},
   "outputs": [],
   "source": [
    "#Findings:\n",
    "#Basing our conclusion of only the p-value of the Shapiro-Wilk test (p-value = 0.0987), we find that we do not reject the null\n",
    "#hypothesis of normality (i.e., we will assume that the difference data values are from a normally distributed population.)\n",
    "#This conclusion is somewhat supported by the graphical output"
   ]
  },
  {
   "cell_type": "code",
   "execution_count": 77,
   "id": "416f8b3c",
   "metadata": {},
   "outputs": [
    {
     "data": {
      "text/plain": [
       "\n",
       "\tOne Sample t-test\n",
       "\n",
       "data:  diff_pass_rate\n",
       "t = -7.3563, df = 23, p-value = 1.754e-07\n",
       "alternative hypothesis: true mean is not equal to 0\n",
       "95 percent confidence interval:\n",
       " -11.555227  -6.482777\n",
       "sample estimates:\n",
       "mean of x \n",
       "-9.019002 \n"
      ]
     },
     "metadata": {},
     "output_type": "display_data"
    }
   ],
   "source": [
    "t.test(diff_pass_rate, altrnative = \"two.sided\")"
   ]
  },
  {
   "cell_type": "code",
   "execution_count": 78,
   "id": "950a1f50",
   "metadata": {},
   "outputs": [],
   "source": [
    "# H0: There is no significant difference in the male pass rates before and after 2017 vs\n",
    "# HA: There is a significant difference in the male pass rates before and after 2017\n",
    "\n",
    "# Since the p-value of our test is 1.754e-07, which is less than the significance level of 0.05, we reject the null hypothesis\n",
    "# that there is no significant difference in the male pass rates before and after 2017. Therefore, we assume there is a \n",
    "# significant difference in the male pass rates before and after 2017.\n",
    "# This somewhat supports the visualisation of the male mean pass rates before and after 2017."
   ]
  },
  {
   "cell_type": "code",
   "execution_count": null,
   "id": "47a83233",
   "metadata": {},
   "outputs": [],
   "source": [
    "\"\"\"\n",
    "The data presented in this analysis covers enrollments up to 2023 and does not directly reflect the impact of the COVID-19\n",
    "pandemic, which began in late 2019. It is important to consider that the pandemic may have had significant effects on enrollment\n",
    "patterns globally, with various factors such as school closures, remote learning, and economic disruptions. \n",
    "Further analysis and data beyond 2023 would be necessary to assess the influence of the COVID-19 pandemic on enrollment trends \n",
    "\"\"\""
   ]
  }
 ],
 "metadata": {
  "kernelspec": {
   "display_name": "Python 3",
   "language": "python",
   "name": "python3"
  },
  "language_info": {
   "codemirror_mode": {
    "name": "ipython",
    "version": 3
   },
   "file_extension": ".py",
   "mimetype": "text/x-python",
   "name": "python",
   "nbconvert_exporter": "python",
   "pygments_lexer": "ipython3",
   "version": "3.6.8"
  }
 },
 "nbformat": 4,
 "nbformat_minor": 5
}
